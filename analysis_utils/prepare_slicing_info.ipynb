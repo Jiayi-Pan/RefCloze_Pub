{
 "cells": [
  {
   "cell_type": "code",
   "execution_count": 1,
   "metadata": {},
   "outputs": [],
   "source": [
    "import json"
   ]
  },
  {
   "cell_type": "code",
   "execution_count": 2,
   "metadata": {},
   "outputs": [],
   "source": [
    "data_path = \"/scratch/chaijy_root/chaijy2/jiayipan/ACL/RefCloze/refcloze_data/0120_Unseen_All.json\"\n",
    "# data_path = \"/scratch/chaijy_root/chaijy2/jiayipan/ACL/RefCloze/refcloze_data/flickr_all_eval_refcloze_dataset.json\"\n",
    "with open(data_path) as f:\n",
    "    data = json.load(f)"
   ]
  },
  {
   "cell_type": "code",
   "execution_count": 3,
   "metadata": {},
   "outputs": [],
   "source": [
    "from collections import defaultdict\n",
    "Word_dict = defaultdict(list)\n",
    "for dpid, t in enumerate(data['tests']):\n",
    "    Word_dict[t['mask_regions'][0][1]].append(dpid)"
   ]
  },
  {
   "cell_type": "code",
   "execution_count": 4,
   "metadata": {},
   "outputs": [],
   "source": [
    "with open(\"slice_db/unseen/Word.json\", \"w\") as f:\n",
    "    json.dump(Word_dict, f)\n",
    "with open(\"slice_db/unseen/WordList.json\", \"w\") as f:\n",
    "    json.dump(list(Word_dict.keys()), f)"
   ]
  },
  {
   "cell_type": "code",
   "execution_count": 5,
   "metadata": {},
   "outputs": [],
   "source": [
    "# with open(\"slice_db/eval/Word.json\", \"w\") as f:\n",
    "#     json.dump(Word_dict, f)\n",
    "# with open(\"slice_db/eval/WordList.json\", \"w\") as f:\n",
    "#     json.dump(list(Word_dict.keys()), f)\n"
   ]
  },
  {
   "cell_type": "code",
   "execution_count": null,
   "metadata": {},
   "outputs": [],
   "source": []
  }
 ],
 "metadata": {
  "kernelspec": {
   "display_name": "Python 3 (ipykernel)",
   "language": "python",
   "name": "python3"
  },
  "language_info": {
   "codemirror_mode": {
    "name": "ipython",
    "version": 3
   },
   "file_extension": ".py",
   "mimetype": "text/x-python",
   "name": "python",
   "nbconvert_exporter": "python",
   "pygments_lexer": "ipython3",
   "version": "3.9.12"
  },
  "vscode": {
   "interpreter": {
    "hash": "45fc85d84af5a2ebbe3e64508f6517ce96c0a617a252a04a92ee7a9ae799aad7"
   }
  }
 },
 "nbformat": 4,
 "nbformat_minor": 4
}
