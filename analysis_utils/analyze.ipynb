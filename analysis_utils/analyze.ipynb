{
 "cells": [
  {
   "cell_type": "code",
   "execution_count": 1,
   "metadata": {},
   "outputs": [],
   "source": [
    "from distutils.command.build import build\n",
    "from tabnanny import verbose\n",
    "import torch\n",
    "import numpy as np\n",
    "import os\n",
    "import pprint\n",
    "from tqdm import tqdm\n",
    "import multiprocessing as mp\n",
    "from functools import partial\n",
    "\n",
    "from utils import eval_one_result, AOA_eval, SliceManager, eval_one_result"
   ]
  },
  {
   "cell_type": "code",
   "execution_count": 2,
   "metadata": {},
   "outputs": [],
   "source": [
    "#S = SliceManager(\"flickr-unseen\")\n",
    "S = SliceManager(\"flickr-eval\")\n",
    "words = S.word_list\n",
    "word_tests = [S.build_word_slice(w) for w in words]"
   ]
  },
  {
   "cell_type": "code",
   "execution_count": 3,
   "metadata": {},
   "outputs": [],
   "source": [
    "#lickr_unseen = \"/scratch/chaijy_root/chaijy2/jiayipan/ACL/RefCloze/AOA/flickr_gl/unseen/\"\n",
    "gl= \"/scratch/chaijy_root/chaijy2/jiayipan/ACL/RefCloze/AOA/flickr_gl/seen/\"\n",
    "#= \"/scratch/chaijy_root/chaijy2/jiayipan/ACL/RefCloze/AOA/flickr_gl/seen/\"\n",
    "#flickr_unseen = \"/scratch/chaijy_root/chaijy2/jiayipan/ACL/RefCloze/AOA/flickr/unseen/\""
   ]
  },
  {
   "cell_type": "code",
   "execution_count": 4,
   "metadata": {},
   "outputs": [
    {
     "name": "stdout",
     "output_type": "stream",
     "text": [
      "162 results found\n"
     ]
    },
    {
     "name": "stderr",
     "output_type": "stream",
     "text": [
      "100%|█████████████████████████████████████████| 162/162 [01:44<00:00,  1.55it/s]\n"
     ]
    }
   ],
   "source": [
    "R = AOA_eval(gl, word_tests,threads=16)"
   ]
  },
  {
   "cell_type": "code",
   "execution_count": 5,
   "metadata": {},
   "outputs": [],
   "source": [
    "torch.save(R,\"flick-gl-all.pth\")"
   ]
  },
  {
   "cell_type": "code",
   "execution_count": null,
   "metadata": {},
   "outputs": [],
   "source": []
  }
 ],
 "metadata": {
  "kernelspec": {
   "display_name": "Python 3 (ipykernel)",
   "language": "python",
   "name": "python3"
  },
  "language_info": {
   "codemirror_mode": {
    "name": "ipython",
    "version": 3
   },
   "file_extension": ".py",
   "mimetype": "text/x-python",
   "name": "python",
   "nbconvert_exporter": "python",
   "pygments_lexer": "ipython3",
   "version": "3.9.12"
  },
  "vscode": {
   "interpreter": {
    "hash": "45fc85d84af5a2ebbe3e64508f6517ce96c0a617a252a04a92ee7a9ae799aad7"
   }
  }
 },
 "nbformat": 4,
 "nbformat_minor": 4
}
