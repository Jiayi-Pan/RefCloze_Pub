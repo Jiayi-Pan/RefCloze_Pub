{
 "cells": [
  {
   "cell_type": "markdown",
   "metadata": {},
   "source": [
    "# Table Helper\n",
    "Given a directory full of aoa_evaluate result, print the overall stats for each row"
   ]
  },
  {
   "cell_type": "code",
   "execution_count": 29,
   "metadata": {},
   "outputs": [],
   "source": [
    "import torch\n",
    "import numpy as np\n",
    "import json\n",
    "from numpy import log\n",
    "def geometric_mean(x): \n",
    "    a = np.log(x)\n",
    "    return np.exp(a.mean())\n",
    "\n",
    "def mean(x):\n",
    "    if len(x) == 0:\n",
    "        return 0\n",
    "    return sum(x)/len(x)"
   ]
  },
  {
   "cell_type": "code",
   "execution_count": 30,
   "metadata": {},
   "outputs": [],
   "source": [
    "def print_stats(stats):\n",
    "    all_g_hit = 0\n",
    "    any_g_hit = 0\n",
    "    all_box_hit = 0\n",
    "    any_box_hit = 0\n",
    "    token_hit = 0\n",
    "    for dp in stats['raw']:\n",
    "        top1_prob = dp['top10'][0]['prob']\n",
    "        ppl = dp['ppl']\n",
    "        if mean(dp['any_iou']) >= 0.5:\n",
    "            any_box_hit += 1\n",
    "        if dp['all_iou'] >= 0.5:\n",
    "            all_box_hit += 1\n",
    "        if ppl * top1_prob > 1 - 1e-3 and  ppl * top1_prob < 1+ 1e-3 :\n",
    "            token_hit += 1\n",
    "            if mean(dp['any_iou']) >= 0.5:\n",
    "                any_g_hit += 1\n",
    "            if dp['all_iou'] >= 0.5:\n",
    "                all_g_hit += 1\n",
    "    selected_ppls = [r['ppl'] for r in stats['raw']]\n",
    "    ppl = geometric_mean(selected_ppls)\n",
    "    log_ppl = np.log(ppl)\n",
    "\n",
    "    selected_all_ious = [r['all_iou'] for r in stats['raw']]\n",
    "    all_iou = mean(selected_all_ious)\n",
    "    any_ious = [mean(r['any_iou']) for r in stats['raw']]\n",
    "    any_iou = mean(any_ious)\n",
    "    log_g_ppl_all = log_ppl - log(all_iou)\n",
    "    log_g_ppl_any = log_ppl - log(any_iou)\n",
    "    num = len(stats['raw'])\n",
    "    # print(f\"{all_g_hit/num} {any_g_hit/num} | {log_g_ppl_all} {log_g_ppl_any}\")\n",
    "    # print(f\"{token_hit/num} | {log_ppl}\")\n",
    "    # print(f\"{all_box_hit/num} {any_box_hit/num} | {all_iou} {any_iou}\")\n",
    "    print(f\"IOU: {all_iou} / {any_iou}\")\n",
    "    print(f\"log_PPL: {log_ppl}\")\n",
    "    print(f\"log_GPPL: {log_g_ppl_all} / {log_g_ppl_any}\")\n",
    "    print(token_hit/num)"
   ]
  },
  {
   "cell_type": "code",
   "execution_count": 31,
   "metadata": {},
   "outputs": [
    {
     "ename": "FileNotFoundError",
     "evalue": "[Errno 2] No such file or directory: '/scratch/chaijy_root/chaijy2/jiayipan/ACL/RefCloze/continue/origin/unseen/0.pth'",
     "output_type": "error",
     "traceback": [
      "\u001b[0;31m---------------------------------------------------------------------------\u001b[0m",
      "\u001b[0;31mFileNotFoundError\u001b[0m                         Traceback (most recent call last)",
      "\u001b[1;32m/scratch/chaijy_root/chaijy2/jiayipan/ACL/RefCloze/RefCloze/ACL_Table_Helper.ipynb Cell 3\u001b[0m in \u001b[0;36m<cell line: 1>\u001b[0;34m()\u001b[0m\n\u001b[0;32m----> <a href='vscode-notebook-cell://ssh-remote%2Bgl/scratch/chaijy_root/chaijy2/jiayipan/ACL/RefCloze/RefCloze/ACL_Table_Helper.ipynb#W3sdnNjb2RlLXJlbW90ZQ%3D%3D?line=0'>1</a>\u001b[0m stats \u001b[39m=\u001b[39m torch\u001b[39m.\u001b[39;49mload(\u001b[39m\"\u001b[39;49m\u001b[39m/scratch/chaijy_root/chaijy2/jiayipan/ACL/RefCloze/continue/origin/unseen/0.pth\u001b[39;49m\u001b[39m\"\u001b[39;49m, map_location\u001b[39m=\u001b[39;49m\u001b[39m'\u001b[39;49m\u001b[39mcpu\u001b[39;49m\u001b[39m'\u001b[39;49m)\n\u001b[1;32m      <a href='vscode-notebook-cell://ssh-remote%2Bgl/scratch/chaijy_root/chaijy2/jiayipan/ACL/RefCloze/RefCloze/ACL_Table_Helper.ipynb#W3sdnNjb2RlLXJlbW90ZQ%3D%3D?line=1'>2</a>\u001b[0m print_stats(stats)\n",
      "File \u001b[0;32m~/.conda/envs/na/lib/python3.9/site-packages/torch/serialization.py:699\u001b[0m, in \u001b[0;36mload\u001b[0;34m(f, map_location, pickle_module, **pickle_load_args)\u001b[0m\n\u001b[1;32m    696\u001b[0m \u001b[39mif\u001b[39;00m \u001b[39m'\u001b[39m\u001b[39mencoding\u001b[39m\u001b[39m'\u001b[39m \u001b[39mnot\u001b[39;00m \u001b[39min\u001b[39;00m pickle_load_args\u001b[39m.\u001b[39mkeys():\n\u001b[1;32m    697\u001b[0m     pickle_load_args[\u001b[39m'\u001b[39m\u001b[39mencoding\u001b[39m\u001b[39m'\u001b[39m] \u001b[39m=\u001b[39m \u001b[39m'\u001b[39m\u001b[39mutf-8\u001b[39m\u001b[39m'\u001b[39m\n\u001b[0;32m--> 699\u001b[0m \u001b[39mwith\u001b[39;00m _open_file_like(f, \u001b[39m'\u001b[39;49m\u001b[39mrb\u001b[39;49m\u001b[39m'\u001b[39;49m) \u001b[39mas\u001b[39;00m opened_file:\n\u001b[1;32m    700\u001b[0m     \u001b[39mif\u001b[39;00m _is_zipfile(opened_file):\n\u001b[1;32m    701\u001b[0m         \u001b[39m# The zipfile reader is going to advance the current file position.\u001b[39;00m\n\u001b[1;32m    702\u001b[0m         \u001b[39m# If we want to actually tail call to torch.jit.load, we need to\u001b[39;00m\n\u001b[1;32m    703\u001b[0m         \u001b[39m# reset back to the original position.\u001b[39;00m\n\u001b[1;32m    704\u001b[0m         orig_position \u001b[39m=\u001b[39m opened_file\u001b[39m.\u001b[39mtell()\n",
      "File \u001b[0;32m~/.conda/envs/na/lib/python3.9/site-packages/torch/serialization.py:231\u001b[0m, in \u001b[0;36m_open_file_like\u001b[0;34m(name_or_buffer, mode)\u001b[0m\n\u001b[1;32m    229\u001b[0m \u001b[39mdef\u001b[39;00m \u001b[39m_open_file_like\u001b[39m(name_or_buffer, mode):\n\u001b[1;32m    230\u001b[0m     \u001b[39mif\u001b[39;00m _is_path(name_or_buffer):\n\u001b[0;32m--> 231\u001b[0m         \u001b[39mreturn\u001b[39;00m _open_file(name_or_buffer, mode)\n\u001b[1;32m    232\u001b[0m     \u001b[39melse\u001b[39;00m:\n\u001b[1;32m    233\u001b[0m         \u001b[39mif\u001b[39;00m \u001b[39m'\u001b[39m\u001b[39mw\u001b[39m\u001b[39m'\u001b[39m \u001b[39min\u001b[39;00m mode:\n",
      "File \u001b[0;32m~/.conda/envs/na/lib/python3.9/site-packages/torch/serialization.py:212\u001b[0m, in \u001b[0;36m_open_file.__init__\u001b[0;34m(self, name, mode)\u001b[0m\n\u001b[1;32m    211\u001b[0m \u001b[39mdef\u001b[39;00m \u001b[39m__init__\u001b[39m(\u001b[39mself\u001b[39m, name, mode):\n\u001b[0;32m--> 212\u001b[0m     \u001b[39msuper\u001b[39m(_open_file, \u001b[39mself\u001b[39m)\u001b[39m.\u001b[39m\u001b[39m__init__\u001b[39m(\u001b[39mopen\u001b[39;49m(name, mode))\n",
      "\u001b[0;31mFileNotFoundError\u001b[0m: [Errno 2] No such file or directory: '/scratch/chaijy_root/chaijy2/jiayipan/ACL/RefCloze/continue/origin/unseen/0.pth'"
     ]
    }
   ],
   "source": [
    "stats = torch.load(\"/scratch/chaijy_root/chaijy2/jiayipan/ACL/RefCloze/continue/origin/unseen/0.pth\", map_location='cpu')\n",
    "print_stats(stats)"
   ]
  },
  {
   "cell_type": "code",
   "execution_count": 34,
   "metadata": {},
   "outputs": [
    {
     "name": "stdout",
     "output_type": "stream",
     "text": [
      "IOU: 0.0 / 0.0\n",
      "log_PPL: 11.02011155080267\n",
      "log_GPPL: inf / inf\n",
      "0.03684550743374273\n"
     ]
    },
    {
     "name": "stderr",
     "output_type": "stream",
     "text": [
      "/tmp/ipykernel_4064776/3715979222.py:28: RuntimeWarning: divide by zero encountered in log\n",
      "  log_g_ppl_all = log_ppl - log(all_iou)\n",
      "/tmp/ipykernel_4064776/3715979222.py:29: RuntimeWarning: divide by zero encountered in log\n",
      "  log_g_ppl_any = log_ppl - log(any_iou)\n"
     ]
    }
   ],
   "source": [
    "stats = torch.load(\"/scratch/chaijy_root/chaijy2/jiayipan/ACL/RefCloze/Last_Exps/unseen/1.pth\", map_location='cpu')\n",
    "print_stats(stats)"
   ]
  },
  {
   "cell_type": "code",
   "execution_count": 36,
   "metadata": {},
   "outputs": [
    {
     "name": "stdout",
     "output_type": "stream",
     "text": [
      "IOU: 0.0 / 0.0\n",
      "log_PPL: 10.862283194716833\n",
      "log_GPPL: inf / inf\n",
      "0.04524886877828054\n"
     ]
    },
    {
     "name": "stderr",
     "output_type": "stream",
     "text": [
      "/tmp/ipykernel_4064776/3715979222.py:28: RuntimeWarning: divide by zero encountered in log\n",
      "  log_g_ppl_all = log_ppl - log(all_iou)\n",
      "/tmp/ipykernel_4064776/3715979222.py:29: RuntimeWarning: divide by zero encountered in log\n",
      "  log_g_ppl_any = log_ppl - log(any_iou)\n"
     ]
    }
   ],
   "source": [
    "stats = torch.load(\"/scratch/chaijy_root/chaijy2/jiayipan/ACL/RefCloze/Last_Exps/unseen/150k_probed.pth\", map_location='cpu')\n",
    "print_stats(stats)"
   ]
  },
  {
   "cell_type": "code",
   "execution_count": 37,
   "metadata": {},
   "outputs": [
    {
     "name": "stdout",
     "output_type": "stream",
     "text": [
      "IOU: 0.0 / 0.0\n",
      "log_PPL: 10.862283194716833\n",
      "log_GPPL: inf / inf\n",
      "0.04524886877828054\n"
     ]
    },
    {
     "name": "stderr",
     "output_type": "stream",
     "text": [
      "/tmp/ipykernel_4064776/3715979222.py:28: RuntimeWarning: divide by zero encountered in log\n",
      "  log_g_ppl_all = log_ppl - log(all_iou)\n",
      "/tmp/ipykernel_4064776/3715979222.py:29: RuntimeWarning: divide by zero encountered in log\n",
      "  log_g_ppl_any = log_ppl - log(any_iou)\n"
     ]
    }
   ],
   "source": [
    "stats = torch.load(\"/scratch/chaijy_root/chaijy2/jiayipan/ACL/RefCloze/Last_Exps/unseen/GL.pth\", map_location='cpu')\n",
    "print_stats(stats)"
   ]
  },
  {
   "cell_type": "code",
   "execution_count": 17,
   "metadata": {},
   "outputs": [
    {
     "name": "stdout",
     "output_type": "stream",
     "text": [
      "IOU: 0.0 / 0.0\n",
      "log_PPL: 10.862283194716833\n",
      "log_GPPL: inf / inf\n",
      "0.04524886877828054\n"
     ]
    },
    {
     "name": "stderr",
     "output_type": "stream",
     "text": [
      "/tmp/ipykernel_4064776/3715979222.py:28: RuntimeWarning: divide by zero encountered in log\n",
      "  log_g_ppl_all = log_ppl - log(all_iou)\n",
      "/tmp/ipykernel_4064776/3715979222.py:29: RuntimeWarning: divide by zero encountered in log\n",
      "  log_g_ppl_any = log_ppl - log(any_iou)\n"
     ]
    }
   ],
   "source": [
    "stats = torch.load(\"/scratch/chaijy_root/chaijy2/jiayipan/ACL/RefCloze/Last_Exps/unseen/GL.pth\", map_location='cpu')\n",
    "print_stats(stats)"
   ]
  },
  {
   "cell_type": "code",
   "execution_count": 11,
   "metadata": {},
   "outputs": [],
   "source": [
    "import os"
   ]
  },
  {
   "cell_type": "code",
   "execution_count": 12,
   "metadata": {},
   "outputs": [
    {
     "name": "stdout",
     "output_type": "stream",
     "text": [
      "---------\n",
      "GL.pth\n"
     ]
    },
    {
     "name": "stderr",
     "output_type": "stream",
     "text": [
      "/tmp/ipykernel_4064776/3120870600.py:28: RuntimeWarning: divide by zero encountered in log\n",
      "  log_g_ppl_all = log_ppl - log(all_iou)\n",
      "/tmp/ipykernel_4064776/3120870600.py:29: RuntimeWarning: divide by zero encountered in log\n",
      "  log_g_ppl_any = log_ppl - log(any_iou)\n"
     ]
    },
    {
     "name": "stdout",
     "output_type": "stream",
     "text": [
      "IOU: 0.0 / 0.0\n",
      "log_PPL: 10.862283194716833\n",
      "log_GPPL: inf / inf\n",
      "---------\n",
      "10k_probed.pth\n",
      "IOU: 0.0 / 0.0\n",
      "log_PPL: 11.495017126212973\n",
      "log_GPPL: inf / inf\n",
      "---------\n",
      "100k.pth\n",
      "IOU: 0.5616442194709231 / 0.4818574043485225\n",
      "log_PPL: 11.018814915128296\n",
      "log_GPPL: 11.595701606124383 / 11.748921965430167\n",
      "---------\n",
      "50k_probed.pth\n",
      "IOU: 0.0 / 0.0\n",
      "log_PPL: 11.02011155080267\n",
      "log_GPPL: inf / inf\n",
      "---------\n",
      "10k.pth\n",
      "IOU: 0.4659914688277796 / 0.3877877495285604\n",
      "log_PPL: 11.424244891593926\n",
      "log_GPPL: 12.18783284385452 / 12.371542017929805\n",
      "---------\n",
      "10k_tuned.pth\n",
      "IOU: 0.355787232710842 / 0.2996269004011756\n",
      "log_PPL: 11.429554059412\n",
      "log_GPPL: 12.46297644713719 / 12.63477130306087\n",
      "---------\n",
      "50k.pth\n",
      "IOU: 0.5456864861679657 / 0.47064688573095625\n",
      "log_PPL: 11.146891086251175\n",
      "log_GPPL: 11.752601755562598 / 11.900538264215218\n",
      "---------\n",
      "150k_probed.pth\n",
      "IOU: 0.0 / 0.0\n",
      "log_PPL: 10.862283194716833\n",
      "log_GPPL: inf / inf\n",
      "---------\n",
      "150k_tuned.pth\n",
      "IOU: 0.3624966021189746 / 0.3104269165226196\n",
      "log_PPL: 10.872503549613105\n",
      "log_GPPL: 11.887243727809341 / 12.042310328444536\n",
      "---------\n",
      "100k_probed.pth\n",
      "IOU: 0.0 / 0.0\n",
      "log_PPL: 10.906491652254447\n",
      "log_GPPL: inf / inf\n",
      "---------\n",
      "100k_tuned.pth\n",
      "IOU: 0.36856313611171704 / 0.32094616205154425\n",
      "log_PPL: 10.768380423818257\n",
      "log_GPPL: 11.766523673114847 / 11.904862313202456\n",
      "---------\n",
      "50k_tuned.pth\n",
      "IOU: 0.3644580124442971 / 0.32113658327639455\n",
      "log_PPL: 10.857634428086955\n",
      "log_GPPL: 11.866978354452225 / 11.993523181362704\n",
      "---------\n",
      "150k.pth\n",
      "IOU: 0.5633929018976478 / 0.48036760798108247\n",
      "log_PPL: 11.01113812208127\n",
      "log_GPPL: 11.58491614439122 / 11.744341740314319\n"
     ]
    }
   ],
   "source": [
    "root = \"/scratch/chaijy_root/chaijy2/jiayipan/ACL/RefCloze/Last_Exps/unseen/\"\n",
    "for file in os.listdir(root):\n",
    "    if file.endswith(\".pth\"):\n",
    "        print('---------')\n",
    "        print(file)\n",
    "        stats = torch.load(os.path.join(root, file), map_location='cpu')\n",
    "        print_stats(stats)"
   ]
  },
  {
   "cell_type": "code",
   "execution_count": 13,
   "metadata": {},
   "outputs": [
    {
     "name": "stdout",
     "output_type": "stream",
     "text": [
      "---------\n",
      "GL.pth\n"
     ]
    },
    {
     "name": "stderr",
     "output_type": "stream",
     "text": [
      "/tmp/ipykernel_4064776/3120870600.py:28: RuntimeWarning: divide by zero encountered in log\n",
      "  log_g_ppl_all = log_ppl - log(all_iou)\n",
      "/tmp/ipykernel_4064776/3120870600.py:29: RuntimeWarning: divide by zero encountered in log\n",
      "  log_g_ppl_any = log_ppl - log(any_iou)\n"
     ]
    },
    {
     "name": "stdout",
     "output_type": "stream",
     "text": [
      "IOU: 0.0 / 0.0\n",
      "log_PPL: 1.3333173594895182\n",
      "log_GPPL: inf / inf\n",
      "---------\n",
      "10k_probed.pth\n",
      "IOU: 0.0 / 0.0\n",
      "log_PPL: 1.5106369319783506\n",
      "log_GPPL: inf / inf\n",
      "---------\n",
      "100k.pth\n",
      "IOU: 0.5868258414194376 / 0.5756909720638826\n",
      "log_PPL: 1.2611679131049087\n",
      "log_GPPL: 1.794195108922422 / 1.8133521821959795\n",
      "---------\n",
      "50k_probed.pth\n",
      "IOU: 0.0 / 0.0\n",
      "log_PPL: 1.3329888121859912\n",
      "log_GPPL: inf / inf\n",
      "---------\n",
      "10k.pth\n",
      "IOU: 0.4672390235281879 / 0.46223375389410215\n",
      "log_PPL: 1.4573007915033047\n",
      "log_GPPL: 2.2182151160721704 / 2.22898534654897\n",
      "---------\n",
      "10k_tuned.pth\n",
      "IOU: 0.36897522121376825 / 0.35279200053678195\n",
      "log_PPL: 1.526282749734314\n",
      "log_GPPL: 2.5233085381128655 / 2.5681593790563495\n",
      "---------\n",
      "50k.pth\n",
      "IOU: 0.5813277620917385 / 0.5705347400766818\n",
      "log_PPL: 1.2556065965605707\n",
      "log_GPPL: 1.7980471433456042 / 1.8167878140074625\n",
      "---------\n",
      "150k_probed.pth\n",
      "IOU: 0.0 / 0.0\n",
      "log_PPL: 1.3333173594895182\n",
      "log_GPPL: inf / inf\n",
      "---------\n",
      "150k_tuned.pth\n",
      "IOU: 0.4001494035205481 / 0.38186080349422846\n",
      "log_PPL: 1.4140128601904292\n",
      "log_GPPL: 2.329930153000262 / 2.376711985730271\n",
      "---------\n",
      "100k_probed.pth\n",
      "IOU: 0.0 / 0.0\n",
      "log_PPL: 1.3367645195986646\n",
      "log_GPPL: inf / inf\n",
      "---------\n",
      "100k_tuned.pth\n",
      "IOU: 0.40392973411131 / 0.39144436037090935\n",
      "log_PPL: 1.437338226821278\n",
      "log_GPPL: 2.343852568436107 / 2.3752501195761138\n",
      "---------\n",
      "50k_tuned.pth\n",
      "IOU: 0.39567310709734255 / 0.38755772702850794\n",
      "log_PPL: 1.4387838984824135\n",
      "log_GPPL: 2.3659507942401117 / 2.386674366789726\n",
      "---------\n",
      "150k.pth\n",
      "IOU: 0.5879608086517449 / 0.5761426838806292\n",
      "log_PPL: 1.258498874890801\n",
      "log_GPPL: 1.789593860148466 / 1.8098988087828223\n"
     ]
    }
   ],
   "source": [
    "root = \"/scratch/chaijy_root/chaijy2/jiayipan/ACL/RefCloze/Last_Exps/seen/\"\n",
    "for file in os.listdir(root):\n",
    "    if file.endswith(\".pth\"):\n",
    "        print('---------')\n",
    "        print(file)\n",
    "        stats = torch.load(os.path.join(root, file), map_location='cpu')\n",
    "        print_stats(stats)"
   ]
  },
  {
   "cell_type": "code",
   "execution_count": null,
   "metadata": {},
   "outputs": [],
   "source": []
  }
 ],
 "metadata": {
  "kernelspec": {
   "display_name": "Python 3 (ipykernel)",
   "language": "python",
   "name": "python3"
  },
  "language_info": {
   "codemirror_mode": {
    "name": "ipython",
    "version": 3
   },
   "file_extension": ".py",
   "mimetype": "text/x-python",
   "name": "python",
   "nbconvert_exporter": "python",
   "pygments_lexer": "ipython3",
   "version": "3.9.12"
  },
  "vscode": {
   "interpreter": {
    "hash": "45fc85d84af5a2ebbe3e64508f6517ce96c0a617a252a04a92ee7a9ae799aad7"
   }
  }
 },
 "nbformat": 4,
 "nbformat_minor": 4
}
