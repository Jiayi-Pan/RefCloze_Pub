{
 "cells": [
  {
   "cell_type": "code",
   "execution_count": 1,
   "id": "6c27277a-704f-4797-96d7-7e2fc58e2cfc",
   "metadata": {},
   "outputs": [],
   "source": [
    "import json"
   ]
  },
  {
   "cell_type": "code",
   "execution_count": 2,
   "id": "66d71aa0-cdde-471e-9025-d95ee14b1e24",
   "metadata": {},
   "outputs": [],
   "source": [
    "with open(\"/scratch/chaijy_root/chaijy2/jiayipan/ACL/RefCloze/refcloze_data/0120_Unseen_All.json\") as f:\n",
    "    unseen_dataset = json.load(f)\n",
    "with open(\"/scratch/chaijy_root/chaijy2/jiayipan/ACL/RefCloze/refcloze_data/flickr_seen_refcloze_dataset.json\") as f:\n",
    "    seen_dataset = json.load(f)"
   ]
  },
  {
   "cell_type": "code",
   "execution_count": 10,
   "id": "6a5a1603-ce3b-4b34-8ba1-8c7b7b1fa8a6",
   "metadata": {},
   "outputs": [],
   "source": [
    "dpid_to_word = {}\n",
    "for dpid, info in enumerate(seen_dataset['tests']):\n",
    "    dpid_to_word[dpid] = info['mask_regions'][0][1]"
   ]
  },
  {
   "cell_type": "code",
   "execution_count": 9,
   "id": "d5c94655-1d7c-4f94-8896-73eff47bf800",
   "metadata": {},
   "outputs": [],
   "source": [
    "with open('unseen_dpid_to_test_word.json', 'w') as f:\n",
    "    json.dump(dpid_to_word,f)"
   ]
  },
  {
   "cell_type": "code",
   "execution_count": 11,
   "id": "28882bc7-ad25-471c-a583-d8ed036a7cea",
   "metadata": {},
   "outputs": [],
   "source": [
    "with open('seen_dpid_to_test_word.json', 'w') as f:\n",
    "    json.dump(dpid_to_word,f)"
   ]
  },
  {
   "cell_type": "code",
   "execution_count": 12,
   "id": "7e7910b6-9e9d-42c8-8c77-a16f540cfd9f",
   "metadata": {},
   "outputs": [
    {
     "data": {
      "text/plain": [
       "4800"
      ]
     },
     "execution_count": 12,
     "metadata": {},
     "output_type": "execute_result"
    }
   ],
   "source": [
    "len(dpid_to_word)"
   ]
  },
  {
   "cell_type": "code",
   "execution_count": 13,
   "id": "a25a36dc-8d6c-4e45-b234-155ca49836d6",
   "metadata": {},
   "outputs": [
    {
     "data": {
      "text/plain": [
       "'man'"
      ]
     },
     "execution_count": 13,
     "metadata": {},
     "output_type": "execute_result"
    }
   ],
   "source": [
    "dpid_to_word[3]"
   ]
  },
  {
   "cell_type": "code",
   "execution_count": null,
   "id": "ba88b274-73b0-4453-9414-30c7e2faff44",
   "metadata": {},
   "outputs": [],
   "source": []
  }
 ],
 "metadata": {
  "kernelspec": {
   "display_name": "Python 3 (ipykernel)",
   "language": "python",
   "name": "python3"
  },
  "language_info": {
   "codemirror_mode": {
    "name": "ipython",
    "version": 3
   },
   "file_extension": ".py",
   "mimetype": "text/x-python",
   "name": "python",
   "nbconvert_exporter": "python",
   "pygments_lexer": "ipython3",
   "version": "3.9.12"
  }
 },
 "nbformat": 4,
 "nbformat_minor": 5
}
