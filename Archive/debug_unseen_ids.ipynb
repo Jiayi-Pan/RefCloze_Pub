{
 "cells": [
  {
   "cell_type": "code",
   "execution_count": 1,
   "metadata": {},
   "outputs": [],
   "source": [
    "from aoa_evaluate import LG_Dataset, build_dataloader\n",
    "from tqdm import tqdm\n",
    "import json\n",
    "with open(\"/scratch/chaijy_root/chaijy2/jiayipan/ACL/RefCloze/refcloze_data/flickr_seen_refcloze_dataset.json\") as f:\n",
    "    data = json.load(f)\n",
    "dataset = LG_Dataset(data, \"/nfs/turbo/coe-chaijy/datasets/flickr30k/flickr30k-images/\", \"/nfs/turbo/coe-chaijy/datasets/mscoco-2014/all/\", \"/scratch/chaijy_root/chaijy2/jiayipan/datasets/GQA/images/\")"
   ]
  },
  {
   "cell_type": "code",
   "execution_count": 4,
   "metadata": {},
   "outputs": [
    {
     "name": "stderr",
     "output_type": "stream",
     "text": [
      "374it [00:59,  6.27it/s]\n"
     ]
    }
   ],
   "source": [
    "result_id_to_test_id = {}\n",
    "result_id = 0\n",
    "dataloader = build_dataloader(dataset, 32, num_workers=4)\n",
    "for dps in tqdm(dataloader):\n",
    "    for dp in dps[1]:\n",
    "        result_id_to_test_id[result_id] = dp['text_info'][\"data_id\"]\n",
    "        result_id += 1"
   ]
  },
  {
   "cell_type": "code",
   "execution_count": 5,
   "metadata": {},
   "outputs": [],
   "source": [
    "with open(\"eval_mapping/seen.json\", \"w\") as f:\n",
    "    json.dump(result_id_to_test_id, f)"
   ]
  },
  {
   "cell_type": "code",
   "execution_count": null,
   "metadata": {},
   "outputs": [],
   "source": []
  }
 ],
 "metadata": {
  "kernelspec": {
   "display_name": "Python 3",
   "language": "python",
   "name": "python3"
  },
  "language_info": {
   "codemirror_mode": {
    "name": "ipython",
    "version": 3
   },
   "file_extension": ".py",
   "mimetype": "text/x-python",
   "name": "python",
   "nbconvert_exporter": "python",
   "pygments_lexer": "ipython3",
   "version": "3.9.12"
  },
  "orig_nbformat": 4,
  "vscode": {
   "interpreter": {
    "hash": "45fc85d84af5a2ebbe3e64508f6517ce96c0a617a252a04a92ee7a9ae799aad7"
   }
  }
 },
 "nbformat": 4,
 "nbformat_minor": 2
}
