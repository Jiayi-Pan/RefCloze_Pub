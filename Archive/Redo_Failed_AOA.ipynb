{
 "cells": [
  {
   "cell_type": "code",
   "execution_count": 1,
   "metadata": {},
   "outputs": [],
   "source": [
    "import os"
   ]
  },
  {
   "cell_type": "code",
   "execution_count": 3,
   "metadata": {},
   "outputs": [],
   "source": [
    "result_dir = \"/scratch/chaijy_root/chaijy2/jiayipan/outputs/0710_flickr_only/AOAs/AOA_for_COCO_Ana_Dataset/AOA_Results_with_Box\"\n",
    "checkpoint_dir = \"/scratch/chaijy_root/chaijy2/jiayipan/outputs/0710_flickr_only/AOAs/AOA_Checkpoints/\"\n",
    "redo_dir = \"/scratch/chaijy_root/chaijy2/jiayipan/outputs/0710_flickr_only/AOAs/AOA_Remake_Checkpoints/\""
   ]
  },
  {
   "cell_type": "code",
   "execution_count": 5,
   "metadata": {},
   "outputs": [],
   "source": [
    "Done = os.listdir(result_dir)\n",
    "All = os.listdir(checkpoint_dir)\n",
    "To_redo = [x for x in All if x not in Done]"
   ]
  },
  {
   "cell_type": "code",
   "execution_count": 7,
   "metadata": {},
   "outputs": [],
   "source": [
    "for f in To_redo:\n",
    "    src = os.path.join(checkpoint_dir, f)\n",
    "    tar = os.path.join(redo_dir, f)\n",
    "    os.symlink(src, tar)"
   ]
  },
  {
   "cell_type": "code",
   "execution_count": null,
   "metadata": {},
   "outputs": [],
   "source": []
  }
 ],
 "metadata": {
  "kernelspec": {
   "display_name": "Python 3.9.12 64-bit ('na')",
   "language": "python",
   "name": "python3"
  },
  "language_info": {
   "codemirror_mode": {
    "name": "ipython",
    "version": 3
   },
   "file_extension": ".py",
   "mimetype": "text/x-python",
   "name": "python",
   "nbconvert_exporter": "python",
   "pygments_lexer": "ipython3",
   "version": "3.9.12"
  },
  "orig_nbformat": 4,
  "vscode": {
   "interpreter": {
    "hash": "45fc85d84af5a2ebbe3e64508f6517ce96c0a617a252a04a92ee7a9ae799aad7"
   }
  }
 },
 "nbformat": 4,
 "nbformat_minor": 2
}
