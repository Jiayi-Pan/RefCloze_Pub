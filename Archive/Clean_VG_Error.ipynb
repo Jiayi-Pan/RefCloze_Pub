{
 "cells": [
  {
   "cell_type": "code",
   "execution_count": 1,
   "metadata": {},
   "outputs": [],
   "source": [
    "import json\n",
    "from PIL import Image\n",
    "from aoa_evaluate import LG_Dataset, build_dataloader, build_aspect_ratio_grouped_sampler, collate_batch\n",
    "from tqdm import tqdm\n",
    "import torch"
   ]
  },
  {
   "cell_type": "code",
   "execution_count": 3,
   "metadata": {},
   "outputs": [],
   "source": [
    "with open('/nfs/turbo/coe-chaijy/jiayipan/Vision-Language-Project/EMNLP/Evaluation/dataset/30-Ana-VG_Dataset.json', 'r') as f:\n",
    "    data = json.load(f)\n",
    "\n",
    "dataset = LG_Dataset(data, \"/nfs/turbo/coe-chaijy/datasets/flickr30k/flickr30k-images/\", \"/nfs/turbo/coe-chaijy/datasets/mscoco-2014/all/\", \"/scratch/chaijy_root/chaijy2/jiayipan/datasets/GQA/images/\")"
   ]
  },
  {
   "cell_type": "code",
   "execution_count": 4,
   "metadata": {},
   "outputs": [
    {
     "data": {
      "text/plain": [
       "{'pair_id': 0, 'mask_regions': [[1, 'banner', 'NOUN', [2, 8]]]}"
      ]
     },
     "execution_count": 4,
     "metadata": {},
     "output_type": "execute_result"
    }
   ],
   "source": [
    "data['tests'][0]"
   ]
  },
  {
   "cell_type": "code",
   "execution_count": 5,
   "metadata": {},
   "outputs": [],
   "source": [
    "dataloader = build_dataloader(dataset, 32, num_workers=4)\n",
    "Data_Iter = iter(dataloader)"
   ]
  },
  {
   "cell_type": "code",
   "execution_count": 6,
   "metadata": {},
   "outputs": [
    {
     "data": {
      "text/plain": [
       "{'img': tensor([[[-0.3541, -0.3541, -0.3541,  ...,  2.2489,  2.2489,  2.2489],\n",
       "          [-0.3369, -0.3541, -0.3541,  ...,  2.2489,  2.2489,  2.2489],\n",
       "          [-0.3027, -0.3369, -0.3712,  ...,  2.2489,  2.2489,  2.2489],\n",
       "          ...,\n",
       "          [-0.3369, -0.3369, -0.3541,  ..., -1.0219, -1.0390, -1.0390],\n",
       "          [-0.3712, -0.3541, -0.3027,  ..., -0.9192, -0.9363, -0.9363],\n",
       "          [-0.3883, -0.3541, -0.2856,  ..., -0.8849, -0.9020, -0.9020]],\n",
       " \n",
       "         [[-0.0399, -0.0049,  0.0651,  ...,  2.4286,  2.4286,  2.4286],\n",
       "          [-0.0224, -0.0049,  0.0476,  ...,  2.4286,  2.4286,  2.4286],\n",
       "          [ 0.0126,  0.0126,  0.0301,  ...,  2.4286,  2.4286,  2.4286],\n",
       "          ...,\n",
       "          [-0.8452, -0.8277, -0.7927,  ..., -1.2829, -1.3004, -1.3179],\n",
       "          [-0.9153, -0.8803, -0.7752,  ..., -1.1954, -1.2129, -1.2304],\n",
       "          [-0.9503, -0.8978, -0.7577,  ..., -1.1604, -1.1779, -1.1954]],\n",
       " \n",
       "         [[-0.8284, -0.8110, -0.7761,  ...,  2.6400,  2.6400,  2.6400],\n",
       "          [-0.8110, -0.7936, -0.7761,  ...,  2.6400,  2.6400,  2.6400],\n",
       "          [-0.7587, -0.7587, -0.7761,  ...,  2.6400,  2.6400,  2.6400],\n",
       "          ...,\n",
       "          [-0.6890, -0.6890, -0.6541,  ..., -0.9678, -0.9853, -0.9853],\n",
       "          [-0.7761, -0.7238, -0.6018,  ..., -0.8807, -0.8981, -0.8981],\n",
       "          [-0.8110, -0.7413, -0.5844,  ..., -0.8458, -0.8633, -0.8633]]]),\n",
       " 'text_info': {'img_size': (500, 375),\n",
       "  'data_id': 233,\n",
       "  'caption': 'Banana leaves are used to wrap tamales in some cultures.',\n",
       "  'mask_regions': [[1, 'leaves', 'NOUN', [7, 13]]],\n",
       "  'word_spans': [[7, 13]],\n",
       "  'phrase_spans': [[0, 6], [7, 13]]},\n",
       " 'bboxs': [[[26, 30, 233, 345]]],\n",
       " 'dataset_name': 'VG'}"
      ]
     },
     "execution_count": 6,
     "metadata": {},
     "output_type": "execute_result"
    }
   ],
   "source": [
    "dataset[233]"
   ]
  },
  {
   "cell_type": "code",
   "execution_count": 7,
   "metadata": {},
   "outputs": [],
   "source": [
    "s = build_aspect_ratio_grouped_sampler(dataset, 32)"
   ]
  },
  {
   "cell_type": "code",
   "execution_count": 8,
   "metadata": {},
   "outputs": [],
   "source": [
    "indices = range(len(dataset))\n",
    "aspect_ratios = []\n",
    "for i in indices:\n",
    "    height, width = dataset.get_height_and_width(i)\n",
    "    aspect_ratio = float(width) / float(height)\n",
    "    aspect_ratios.append(aspect_ratio)"
   ]
  },
  {
   "cell_type": "code",
   "execution_count": 9,
   "metadata": {},
   "outputs": [
    {
     "name": "stderr",
     "output_type": "stream",
     "text": [
      "2311it [00:00, 71816.76it/s]\n"
     ]
    }
   ],
   "source": [
    "from copy import deepcopy\n",
    "O = None\n",
    "A = None\n",
    "B = None\n",
    "for idx, t in enumerate(tqdm(s)):\n",
    "    ratio_set = set()\n",
    "    for i in t:\n",
    "        ratio_set.add(aspect_ratios[i])\n",
    "    if idx == 3545:\n",
    "        O = deepcopy(t)\n",
    "    if idx == 3546:\n",
    "        A = deepcopy(t)\n",
    "    if idx == 3547:\n",
    "        B = deepcopy(t)\n",
    "        break\n",
    "    assert len(ratio_set) == 1"
   ]
  },
  {
   "cell_type": "code",
   "execution_count": 10,
   "metadata": {},
   "outputs": [
    {
     "ename": "TypeError",
     "evalue": "'NoneType' object is not iterable",
     "output_type": "error",
     "traceback": [
      "\u001b[0;31m---------------------------------------------------------------------------\u001b[0m",
      "\u001b[0;31mTypeError\u001b[0m                                 Traceback (most recent call last)",
      "Input \u001b[0;32mIn [10]\u001b[0m, in \u001b[0;36m<cell line: 1>\u001b[0;34m()\u001b[0m\n\u001b[0;32m----> 1\u001b[0m data_batch \u001b[38;5;241m=\u001b[39m [dataset[i] \u001b[38;5;28;01mfor\u001b[39;00m i \u001b[38;5;129;01min\u001b[39;00m A]\n\u001b[1;32m      2\u001b[0m collate_batch(data_batch)\n",
      "\u001b[0;31mTypeError\u001b[0m: 'NoneType' object is not iterable"
     ]
    }
   ],
   "source": [
    "data_batch = [dataset[i] for i in A]\n",
    "collate_batch(data_batch)"
   ]
  },
  {
   "cell_type": "code",
   "execution_count": 21,
   "metadata": {},
   "outputs": [
    {
     "name": "stdout",
     "output_type": "stream",
     "text": [
      "0.0\n",
      "0.0\n",
      "0.0\n",
      "0.0\n",
      "0.0\n",
      "0.0\n",
      "0.0\n",
      "0.0\n",
      "0.0\n",
      "0.0\n",
      "0.0\n",
      "0.0\n",
      "0.0\n",
      "0.0\n",
      "0.0\n",
      "0.0\n",
      "0.0\n",
      "0.0\n",
      "0.0\n",
      "0.0\n",
      "0.0\n",
      "0.0\n",
      "0.0\n",
      "0.0\n",
      "0.0\n",
      "0.0\n",
      "0.0\n",
      "0.0\n",
      "0.0\n",
      "0.16400000000000003\n",
      "0.16400000000000003\n",
      "0.16400000000000003\n"
     ]
    }
   ],
   "source": [
    "# for dp_id in A:\n",
    "#     this_cache_hw = dataset.get_height_and_width(dp_id)\n",
    "#     this_cache_ratio = float(this_cache_hw[0]) / float(this_cache_hw[1])\n",
    "#     this_hw = dataset[dp_id]['text_info']['img_size']\n",
    "#     this_ratio = float(this_hw[1]) / float(this_hw[0])\n",
    "#     diff = abs(this_cache_ratio - this_ratio)\n",
    "#     print(diff)"
   ]
  },
  {
   "cell_type": "code",
   "execution_count": 11,
   "metadata": {},
   "outputs": [
    {
     "name": "stderr",
     "output_type": "stream",
     "text": [
      " 99%|████████████████████████████████████▊| 54855/55176 [52:09<00:20, 15.43it/s]"
     ]
    },
    {
     "name": "stdout",
     "output_type": "stream",
     "text": [
      "54852\n",
      "54853\n"
     ]
    },
    {
     "name": "stderr",
     "output_type": "stream",
     "text": [
      "100%|█████████████████████████████████████| 55176/55176 [52:26<00:00, 17.54it/s]\n"
     ]
    }
   ],
   "source": [
    "ERROR_IDX = []\n",
    "for dp_id, dp in enumerate(tqdm(dataset)):\n",
    "    this_cache_hw = dataset.get_height_and_width(dp_id)\n",
    "    this_cache_ratio = float(this_cache_hw[0]) / float(this_cache_hw[1])\n",
    "    this_hw = dataset[dp_id]['text_info']['img_size']\n",
    "    this_ratio = float(this_hw[1]) / float(this_hw[0])\n",
    "    diff = abs(this_cache_ratio - this_ratio)\n",
    "    if diff > 0.0001:\n",
    "        ERROR_IDX.append(dp_id)\n",
    "        print(dp_id)\n",
    "torch.save(ERROR_IDX, 'ERROR_IDX.pth')"
   ]
  },
  {
   "cell_type": "code",
   "execution_count": 5,
   "metadata": {},
   "outputs": [
    {
     "data": {
      "text/plain": [
       "[124297,\n",
       " 124298,\n",
       " 124299,\n",
       " 124300,\n",
       " 124301,\n",
       " 124443,\n",
       " 124444,\n",
       " 125951,\n",
       " 126419,\n",
       " 152423,\n",
       " 152424,\n",
       " 152425,\n",
       " 152426,\n",
       " 152702,\n",
       " 152703,\n",
       " 152940,\n",
       " 152941,\n",
       " 152942,\n",
       " 153481,\n",
       " 153482,\n",
       " 153483,\n",
       " 153484]"
      ]
     },
     "execution_count": 5,
     "metadata": {},
     "output_type": "execute_result"
    }
   ],
   "source": [
    "ERROR_IDX"
   ]
  },
  {
   "cell_type": "code",
   "execution_count": 15,
   "metadata": {},
   "outputs": [
    {
     "data": {
      "text/plain": [
       "155751"
      ]
     },
     "execution_count": 15,
     "metadata": {},
     "output_type": "execute_result"
    }
   ],
   "source": [
    "len(data['tests'])"
   ]
  },
  {
   "cell_type": "code",
   "execution_count": 9,
   "metadata": {},
   "outputs": [],
   "source": [
    "Ts = [data['tests'][i] for i in ERROR_IDX]"
   ]
  },
  {
   "cell_type": "code",
   "execution_count": 17,
   "metadata": {},
   "outputs": [],
   "source": [
    "for i in sorted(ERROR_IDX, reverse=True):\n",
    "    del data['tests'][i]"
   ]
  },
  {
   "cell_type": "code",
   "execution_count": 19,
   "metadata": {},
   "outputs": [],
   "source": [
    "with open('/nfs/turbo/coe-chaijy/jiayipan/Vision-Language-Project/EMNLP/Evaluation/dataset/Fixed_Ana_VG_Dataset.json', 'w') as f:\n",
    "    json.dump(data,f)"
   ]
  },
  {
   "cell_type": "code",
   "execution_count": 18,
   "metadata": {},
   "outputs": [
    {
     "data": {
      "text/plain": [
       "155729"
      ]
     },
     "execution_count": 18,
     "metadata": {},
     "output_type": "execute_result"
    }
   ],
   "source": [
    "len(data['tests'])"
   ]
  },
  {
   "cell_type": "code",
   "execution_count": null,
   "metadata": {},
   "outputs": [],
   "source": []
  }
 ],
 "metadata": {
  "kernelspec": {
   "display_name": "Python 3 (ipykernel)",
   "language": "python",
   "name": "python3"
  },
  "language_info": {
   "codemirror_mode": {
    "name": "ipython",
    "version": 3
   },
   "file_extension": ".py",
   "mimetype": "text/x-python",
   "name": "python",
   "nbconvert_exporter": "python",
   "pygments_lexer": "ipython3",
   "version": "3.9.12"
  },
  "vscode": {
   "interpreter": {
    "hash": "45fc85d84af5a2ebbe3e64508f6517ce96c0a617a252a04a92ee7a9ae799aad7"
   }
  }
 },
 "nbformat": 4,
 "nbformat_minor": 4
}
